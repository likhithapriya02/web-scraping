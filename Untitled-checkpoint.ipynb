{
 "cells": [
  {
   "cell_type": "code",
   "execution_count": null,
   "id": "46ae76a9",
   "metadata": {},
   "outputs": [],
   "source": [
    "pip install requests\n"
   ]
  },
  {
   "cell_type": "code",
   "execution_count": null,
   "id": "2c8f4444",
   "metadata": {},
   "outputs": [],
   "source": [
    "pip install bs4"
   ]
  },
  {
   "cell_type": "code",
   "execution_count": 1,
   "id": "0a941c0d",
   "metadata": {},
   "outputs": [
    {
     "ename": "ImportError",
     "evalue": "cannot import name 'Beautifulsoup' from 'bs4' (C:\\Users\\likhi\\anaconda3\\lib\\site-packages\\bs4\\__init__.py)",
     "output_type": "error",
     "traceback": [
      "\u001b[1;31m---------------------------------------------------------------------------\u001b[0m",
      "\u001b[1;31mImportError\u001b[0m                               Traceback (most recent call last)",
      "Input \u001b[1;32mIn [1]\u001b[0m, in \u001b[0;36m<cell line: 2>\u001b[1;34m()\u001b[0m\n\u001b[0;32m      1\u001b[0m \u001b[38;5;28;01mimport\u001b[39;00m \u001b[38;5;21;01mrequests\u001b[39;00m\n\u001b[1;32m----> 2\u001b[0m \u001b[38;5;28;01mfrom\u001b[39;00m \u001b[38;5;21;01mbs4\u001b[39;00m \u001b[38;5;28;01mimport\u001b[39;00m Beautifulsoup\n",
      "\u001b[1;31mImportError\u001b[0m: cannot import name 'Beautifulsoup' from 'bs4' (C:\\Users\\likhi\\anaconda3\\lib\\site-packages\\bs4\\__init__.py)"
     ]
    }
   ],
   "source": [
    "import requests\n",
    "from bs4 import Beautifulsoup"
   ]
  },
  {
   "cell_type": "code",
   "execution_count": 4,
   "id": "0374bc72",
   "metadata": {},
   "outputs": [],
   "source": [
    "import requests\n",
    "from bs4 import BeautifulSoup"
   ]
  },
  {
   "cell_type": "code",
   "execution_count": 11,
   "id": "335aa2a9",
   "metadata": {},
   "outputs": [
    {
     "name": "stdout",
     "output_type": "stream",
     "text": [
      "enter number of pages3\n",
      "phone in page1\n",
      "24\n",
      "phone in page2\n",
      "24\n",
      "phone in page3\n",
      "24\n"
     ]
    }
   ],
   "source": [
    "phn_nam=[]\n",
    "phn_pri=[]\n",
    "phn_exc=[]\n",
    "\n",
    "page_num=input(\"enter number of pages\")\n",
    "for i in range(1,int(page_num)+1):\n",
    "    url=\"https://www.flipkart.com/search?q=mobiles&as=on&as-show=on&otracker=AS_Query_TrendingAutoSuggest_1_0_na_na_na&otracker1=AS_Query_TrendingAutoSuggest_1_0_na_na_na&as-pos=1&as-type=TRENDING&suggestionId=mobiles&requestId=9fbbc859-e159-4fb2-b3b7-5b30a0d4b4a7\"+str(i)\n",
    "    req=requests.get(url)\n",
    "    content=BeautifulSoup(req.content,'html.parser')\n",
    "    name=content.find_all('div',{\"class\":\"_4rR01T\"})\n",
    "    price=content.find_all('div',{\"class\":\"_30jeq3 _1_WHN1\"})\n",
    "    exchange=content.find_all('div',{\"class\":\"_3tcB5a p8ucoS\"})\n",
    "    print(\"phone in page\"+str(i))\n",
    "    print(len(name))\n",
    "    \n",
    "    for i in name:\n",
    "        phn_nam.append(i.text)\n",
    "    for i in price:\n",
    "        phn_pri.append(i.text)\n",
    "    for i in exchange:\n",
    "        phn_exc.append(i.text)\n",
    "    \n",
    "    "
   ]
  },
  {
   "cell_type": "code",
   "execution_count": 6,
   "id": "14380f41",
   "metadata": {},
   "outputs": [
    {
     "name": "stdout",
     "output_type": "stream",
     "text": [
      "Infinix HOT 12 Play (Racing Black, 64 GB)\n",
      "Infinix HOT 12 Play (Daylight Green, 64 GB)\n",
      "Infinix HOT 12 Play (Horizon Blue, 64 GB)\n",
      "realme C31 (Light Silver, 32 GB)\n",
      "realme C31 (Dark Green, 32 GB)\n",
      "POCO C31 (Royal Blue, 64 GB)\n",
      "realme C11 2021 (Cool Blue, 32 GB)\n",
      "realme C11 2021 (Cool Grey, 32 GB)\n",
      "POCO M3 Pro 5G (Yellow, 128 GB)\n",
      "realme C11 2021 (Cool Blue, 64 GB)\n",
      "realme C11 2021 (Cool Grey, 64 GB)\n",
      "POCO C31 (Royal Blue, 32 GB)\n",
      "REDMI Note 10T 5G (Mint Green, 64 GB)\n",
      "REDMI Note 10T 5G (Metallic Blue, 64 GB)\n",
      "realme C35 (Glowing Green, 64 GB)\n",
      "realme C31 (Light Silver, 64 GB)\n",
      "realme C31 (Dark Green, 64 GB)\n",
      "MOTOROLA G60 (Moonless, 128 GB)\n",
      "REDMI Note 10T 5G (Graphite Black, 64 GB)\n",
      "POCO C31 (Shadow Gray, 64 GB)\n",
      "MOTOROLA G60 (Dynamic Gray, 128 GB)\n",
      "REDMI Note 10T 5G (Graphite Black, 128 GB)\n",
      "REDMI Note 10T 5G (Mint Green, 128 GB)\n",
      "vivo T1 44W (Starry Sky, 128 GB)\n",
      "Infinix HOT 12 Play (Horizon Blue, 64 GB)\n",
      "Infinix HOT 12 Play (Daylight Green, 64 GB)\n",
      "Infinix HOT 12 Play (Racing Black, 64 GB)\n",
      "realme C31 (Dark Green, 32 GB)\n",
      "realme C31 (Light Silver, 32 GB)\n",
      "POCO C31 (Royal Blue, 64 GB)\n",
      "realme C11 2021 (Cool Blue, 32 GB)\n",
      "realme C11 2021 (Cool Grey, 32 GB)\n",
      "POCO M3 Pro 5G (Yellow, 128 GB)\n",
      "realme C11 2021 (Cool Blue, 64 GB)\n",
      "realme C11 2021 (Cool Grey, 64 GB)\n",
      "POCO C31 (Royal Blue, 32 GB)\n",
      "REDMI Note 10T 5G (Mint Green, 64 GB)\n",
      "realme C35 (Glowing Green, 64 GB)\n",
      "REDMI Note 10T 5G (Metallic Blue, 64 GB)\n",
      "realme C31 (Light Silver, 64 GB)\n",
      "realme C31 (Dark Green, 64 GB)\n",
      "MOTOROLA G60 (Moonless, 128 GB)\n",
      "REDMI Note 10T 5G (Graphite Black, 64 GB)\n",
      "POCO C31 (Shadow Gray, 64 GB)\n",
      "MOTOROLA G60 (Dynamic Gray, 128 GB)\n",
      "REDMI Note 10T 5G (Graphite Black, 128 GB)\n",
      "REDMI Note 10T 5G (Mint Green, 128 GB)\n",
      "vivo T1 44W (Midnight Galaxy, 128 GB)\n",
      "Infinix HOT 12 Play (Racing Black, 64 GB)\n",
      "Infinix HOT 12 Play (Horizon Blue, 64 GB)\n",
      "Infinix HOT 12 Play (Daylight Green, 64 GB)\n",
      "realme C31 (Light Silver, 32 GB)\n",
      "realme C31 (Dark Green, 32 GB)\n",
      "POCO C31 (Royal Blue, 64 GB)\n",
      "realme C31 (Dark Green, 64 GB)\n",
      "realme C31 (Light Silver, 64 GB)\n",
      "realme C11 2021 (Cool Blue, 32 GB)\n",
      "realme C11 2021 (Cool Grey, 32 GB)\n",
      "POCO M3 Pro 5G (Yellow, 128 GB)\n",
      "realme C11 2021 (Cool Grey, 64 GB)\n",
      "POCO C31 (Royal Blue, 32 GB)\n",
      "realme C11 2021 (Cool Blue, 64 GB)\n",
      "REDMI Note 10T 5G (Mint Green, 64 GB)\n",
      "POCO C31 (Shadow Gray, 64 GB)\n",
      "REDMI Note 10T 5G (Metallic Blue, 64 GB)\n",
      "REDMI Note 10T 5G (Graphite Black, 64 GB)\n",
      "MOTOROLA G60 (Moonless, 128 GB)\n",
      "REDMI Note 10T 5G (Graphite Black, 128 GB)\n",
      "REDMI Note 10T 5G (Mint Green, 128 GB)\n",
      "MOTOROLA G60 (Dynamic Gray, 128 GB)\n",
      "REDMI 10 (Midnight Black, 64 GB)\n",
      "realme 9 (Sunburst Gold, 128 GB)\n",
      "Infinix HOT 12 Play (Racing Black, 64 GB)\n",
      "Infinix HOT 12 Play (Horizon Blue, 64 GB)\n",
      "Infinix HOT 12 Play (Daylight Green, 64 GB)\n",
      "realme C31 (Light Silver, 32 GB)\n",
      "realme C31 (Dark Green, 32 GB)\n",
      "POCO C31 (Royal Blue, 64 GB)\n",
      "realme C31 (Dark Green, 64 GB)\n",
      "realme C31 (Light Silver, 64 GB)\n",
      "realme C11 2021 (Cool Blue, 32 GB)\n",
      "realme C11 2021 (Cool Grey, 32 GB)\n",
      "POCO M3 Pro 5G (Yellow, 128 GB)\n",
      "realme C11 2021 (Cool Grey, 64 GB)\n",
      "POCO C31 (Royal Blue, 32 GB)\n",
      "realme C11 2021 (Cool Blue, 64 GB)\n",
      "REDMI Note 10T 5G (Mint Green, 64 GB)\n",
      "POCO C31 (Shadow Gray, 64 GB)\n",
      "REDMI Note 10T 5G (Metallic Blue, 64 GB)\n",
      "REDMI Note 10T 5G (Graphite Black, 64 GB)\n",
      "MOTOROLA G60 (Moonless, 128 GB)\n",
      "REDMI Note 10T 5G (Graphite Black, 128 GB)\n",
      "REDMI Note 10T 5G (Mint Green, 128 GB)\n",
      "MOTOROLA G60 (Dynamic Gray, 128 GB)\n",
      "REDMI 10 (Midnight Black, 64 GB)\n",
      "realme 9 (Sunburst Gold, 128 GB)\n"
     ]
    }
   ],
   "source": [
    "for i in phn_nam:\n",
    "    print(i)"
   ]
  },
  {
   "cell_type": "code",
   "execution_count": 8,
   "id": "dd7cd865",
   "metadata": {},
   "outputs": [
    {
     "name": "stdout",
     "output_type": "stream",
     "text": [
      "Requirement already satisfied: pandas in c:\\users\\likhi\\anaconda3\\lib\\site-packages (1.4.2)\n",
      "Requirement already satisfied: numpy>=1.18.5 in c:\\users\\likhi\\anaconda3\\lib\\site-packages (from pandas) (1.21.5)\n",
      "Requirement already satisfied: pytz>=2020.1 in c:\\users\\likhi\\anaconda3\\lib\\site-packages (from pandas) (2021.3)\n",
      "Requirement already satisfied: python-dateutil>=2.8.1 in c:\\users\\likhi\\anaconda3\\lib\\site-packages (from pandas) (2.8.2)\n",
      "Requirement already satisfied: six>=1.5 in c:\\users\\likhi\\anaconda3\\lib\\site-packages (from python-dateutil>=2.8.1->pandas) (1.16.0)\n",
      "Note: you may need to restart the kernel to use updated packages.\n"
     ]
    }
   ],
   "source": [
    "pip install pandas\n"
   ]
  },
  {
   "cell_type": "code",
   "execution_count": 7,
   "id": "f21665c4",
   "metadata": {},
   "outputs": [
    {
     "ename": "SyntaxError",
     "evalue": "invalid syntax (1344132335.py, line 1)",
     "output_type": "error",
     "traceback": [
      "\u001b[1;36m  Input \u001b[1;32mIn [7]\u001b[1;36m\u001b[0m\n\u001b[1;33m    pip install pandas as pd\u001b[0m\n\u001b[1;37m        ^\u001b[0m\n\u001b[1;31mSyntaxError\u001b[0m\u001b[1;31m:\u001b[0m invalid syntax\n"
     ]
    }
   ],
   "source": [
    "pip install pandas as pd\n",
    "\n"
   ]
  },
  {
   "cell_type": "code",
   "execution_count": null,
   "id": "596bdff6",
   "metadata": {},
   "outputs": [],
   "source": [
    "pip install pandas as pd"
   ]
  },
  {
   "cell_type": "code",
   "execution_count": 20,
   "id": "0341853b",
   "metadata": {},
   "outputs": [
    {
     "ename": "ValueError",
     "evalue": "All arrays must be of the same length",
     "output_type": "error",
     "traceback": [
      "\u001b[1;31m---------------------------------------------------------------------------\u001b[0m",
      "\u001b[1;31mValueError\u001b[0m                                Traceback (most recent call last)",
      "Input \u001b[1;32mIn [20]\u001b[0m, in \u001b[0;36m<cell line: 3>\u001b[1;34m()\u001b[0m\n\u001b[0;32m      1\u001b[0m \u001b[38;5;28;01mimport\u001b[39;00m \u001b[38;5;21;01mpandas\u001b[39;00m \u001b[38;5;28;01mas\u001b[39;00m \u001b[38;5;21;01mpd\u001b[39;00m\n\u001b[0;32m      2\u001b[0m data\u001b[38;5;241m=\u001b[39m{\u001b[38;5;124m\"\u001b[39m\u001b[38;5;124mphone name\u001b[39m\u001b[38;5;124m\"\u001b[39m:phn_nam,\u001b[38;5;124m\"\u001b[39m\u001b[38;5;124mphone exchange\u001b[39m\u001b[38;5;124m\"\u001b[39m:phn_exc}\n\u001b[1;32m----> 3\u001b[0m df\u001b[38;5;241m=\u001b[39m\u001b[43mpd\u001b[49m\u001b[38;5;241;43m.\u001b[39;49m\u001b[43mDataFrame\u001b[49m\u001b[43m(\u001b[49m\u001b[43mdata\u001b[49m\u001b[43m)\u001b[49m\n\u001b[0;32m      4\u001b[0m \u001b[38;5;28mprint\u001b[39m(df)\n",
      "File \u001b[1;32m~\\anaconda3\\lib\\site-packages\\pandas\\core\\frame.py:636\u001b[0m, in \u001b[0;36mDataFrame.__init__\u001b[1;34m(self, data, index, columns, dtype, copy)\u001b[0m\n\u001b[0;32m    630\u001b[0m     mgr \u001b[38;5;241m=\u001b[39m \u001b[38;5;28mself\u001b[39m\u001b[38;5;241m.\u001b[39m_init_mgr(\n\u001b[0;32m    631\u001b[0m         data, axes\u001b[38;5;241m=\u001b[39m{\u001b[38;5;124m\"\u001b[39m\u001b[38;5;124mindex\u001b[39m\u001b[38;5;124m\"\u001b[39m: index, \u001b[38;5;124m\"\u001b[39m\u001b[38;5;124mcolumns\u001b[39m\u001b[38;5;124m\"\u001b[39m: columns}, dtype\u001b[38;5;241m=\u001b[39mdtype, copy\u001b[38;5;241m=\u001b[39mcopy\n\u001b[0;32m    632\u001b[0m     )\n\u001b[0;32m    634\u001b[0m \u001b[38;5;28;01melif\u001b[39;00m \u001b[38;5;28misinstance\u001b[39m(data, \u001b[38;5;28mdict\u001b[39m):\n\u001b[0;32m    635\u001b[0m     \u001b[38;5;66;03m# GH#38939 de facto copy defaults to False only in non-dict cases\u001b[39;00m\n\u001b[1;32m--> 636\u001b[0m     mgr \u001b[38;5;241m=\u001b[39m \u001b[43mdict_to_mgr\u001b[49m\u001b[43m(\u001b[49m\u001b[43mdata\u001b[49m\u001b[43m,\u001b[49m\u001b[43m \u001b[49m\u001b[43mindex\u001b[49m\u001b[43m,\u001b[49m\u001b[43m \u001b[49m\u001b[43mcolumns\u001b[49m\u001b[43m,\u001b[49m\u001b[43m \u001b[49m\u001b[43mdtype\u001b[49m\u001b[38;5;241;43m=\u001b[39;49m\u001b[43mdtype\u001b[49m\u001b[43m,\u001b[49m\u001b[43m \u001b[49m\u001b[43mcopy\u001b[49m\u001b[38;5;241;43m=\u001b[39;49m\u001b[43mcopy\u001b[49m\u001b[43m,\u001b[49m\u001b[43m \u001b[49m\u001b[43mtyp\u001b[49m\u001b[38;5;241;43m=\u001b[39;49m\u001b[43mmanager\u001b[49m\u001b[43m)\u001b[49m\n\u001b[0;32m    637\u001b[0m \u001b[38;5;28;01melif\u001b[39;00m \u001b[38;5;28misinstance\u001b[39m(data, ma\u001b[38;5;241m.\u001b[39mMaskedArray):\n\u001b[0;32m    638\u001b[0m     \u001b[38;5;28;01mimport\u001b[39;00m \u001b[38;5;21;01mnumpy\u001b[39;00m\u001b[38;5;21;01m.\u001b[39;00m\u001b[38;5;21;01mma\u001b[39;00m\u001b[38;5;21;01m.\u001b[39;00m\u001b[38;5;21;01mmrecords\u001b[39;00m \u001b[38;5;28;01mas\u001b[39;00m \u001b[38;5;21;01mmrecords\u001b[39;00m\n",
      "File \u001b[1;32m~\\anaconda3\\lib\\site-packages\\pandas\\core\\internals\\construction.py:502\u001b[0m, in \u001b[0;36mdict_to_mgr\u001b[1;34m(data, index, columns, dtype, typ, copy)\u001b[0m\n\u001b[0;32m    494\u001b[0m     arrays \u001b[38;5;241m=\u001b[39m [\n\u001b[0;32m    495\u001b[0m         x\n\u001b[0;32m    496\u001b[0m         \u001b[38;5;28;01mif\u001b[39;00m \u001b[38;5;129;01mnot\u001b[39;00m \u001b[38;5;28mhasattr\u001b[39m(x, \u001b[38;5;124m\"\u001b[39m\u001b[38;5;124mdtype\u001b[39m\u001b[38;5;124m\"\u001b[39m) \u001b[38;5;129;01mor\u001b[39;00m \u001b[38;5;129;01mnot\u001b[39;00m \u001b[38;5;28misinstance\u001b[39m(x\u001b[38;5;241m.\u001b[39mdtype, ExtensionDtype)\n\u001b[0;32m    497\u001b[0m         \u001b[38;5;28;01melse\u001b[39;00m x\u001b[38;5;241m.\u001b[39mcopy()\n\u001b[0;32m    498\u001b[0m         \u001b[38;5;28;01mfor\u001b[39;00m x \u001b[38;5;129;01min\u001b[39;00m arrays\n\u001b[0;32m    499\u001b[0m     ]\n\u001b[0;32m    500\u001b[0m     \u001b[38;5;66;03m# TODO: can we get rid of the dt64tz special case above?\u001b[39;00m\n\u001b[1;32m--> 502\u001b[0m \u001b[38;5;28;01mreturn\u001b[39;00m \u001b[43marrays_to_mgr\u001b[49m\u001b[43m(\u001b[49m\u001b[43marrays\u001b[49m\u001b[43m,\u001b[49m\u001b[43m \u001b[49m\u001b[43mcolumns\u001b[49m\u001b[43m,\u001b[49m\u001b[43m \u001b[49m\u001b[43mindex\u001b[49m\u001b[43m,\u001b[49m\u001b[43m \u001b[49m\u001b[43mdtype\u001b[49m\u001b[38;5;241;43m=\u001b[39;49m\u001b[43mdtype\u001b[49m\u001b[43m,\u001b[49m\u001b[43m \u001b[49m\u001b[43mtyp\u001b[49m\u001b[38;5;241;43m=\u001b[39;49m\u001b[43mtyp\u001b[49m\u001b[43m,\u001b[49m\u001b[43m \u001b[49m\u001b[43mconsolidate\u001b[49m\u001b[38;5;241;43m=\u001b[39;49m\u001b[43mcopy\u001b[49m\u001b[43m)\u001b[49m\n",
      "File \u001b[1;32m~\\anaconda3\\lib\\site-packages\\pandas\\core\\internals\\construction.py:120\u001b[0m, in \u001b[0;36marrays_to_mgr\u001b[1;34m(arrays, columns, index, dtype, verify_integrity, typ, consolidate)\u001b[0m\n\u001b[0;32m    117\u001b[0m \u001b[38;5;28;01mif\u001b[39;00m verify_integrity:\n\u001b[0;32m    118\u001b[0m     \u001b[38;5;66;03m# figure out the index, if necessary\u001b[39;00m\n\u001b[0;32m    119\u001b[0m     \u001b[38;5;28;01mif\u001b[39;00m index \u001b[38;5;129;01mis\u001b[39;00m \u001b[38;5;28;01mNone\u001b[39;00m:\n\u001b[1;32m--> 120\u001b[0m         index \u001b[38;5;241m=\u001b[39m \u001b[43m_extract_index\u001b[49m\u001b[43m(\u001b[49m\u001b[43marrays\u001b[49m\u001b[43m)\u001b[49m\n\u001b[0;32m    121\u001b[0m     \u001b[38;5;28;01melse\u001b[39;00m:\n\u001b[0;32m    122\u001b[0m         index \u001b[38;5;241m=\u001b[39m ensure_index(index)\n",
      "File \u001b[1;32m~\\anaconda3\\lib\\site-packages\\pandas\\core\\internals\\construction.py:674\u001b[0m, in \u001b[0;36m_extract_index\u001b[1;34m(data)\u001b[0m\n\u001b[0;32m    672\u001b[0m lengths \u001b[38;5;241m=\u001b[39m \u001b[38;5;28mlist\u001b[39m(\u001b[38;5;28mset\u001b[39m(raw_lengths))\n\u001b[0;32m    673\u001b[0m \u001b[38;5;28;01mif\u001b[39;00m \u001b[38;5;28mlen\u001b[39m(lengths) \u001b[38;5;241m>\u001b[39m \u001b[38;5;241m1\u001b[39m:\n\u001b[1;32m--> 674\u001b[0m     \u001b[38;5;28;01mraise\u001b[39;00m \u001b[38;5;167;01mValueError\u001b[39;00m(\u001b[38;5;124m\"\u001b[39m\u001b[38;5;124mAll arrays must be of the same length\u001b[39m\u001b[38;5;124m\"\u001b[39m)\n\u001b[0;32m    676\u001b[0m \u001b[38;5;28;01mif\u001b[39;00m have_dicts:\n\u001b[0;32m    677\u001b[0m     \u001b[38;5;28;01mraise\u001b[39;00m \u001b[38;5;167;01mValueError\u001b[39;00m(\n\u001b[0;32m    678\u001b[0m         \u001b[38;5;124m\"\u001b[39m\u001b[38;5;124mMixing dicts with non-Series may lead to ambiguous ordering.\u001b[39m\u001b[38;5;124m\"\u001b[39m\n\u001b[0;32m    679\u001b[0m     )\n",
      "\u001b[1;31mValueError\u001b[0m: All arrays must be of the same length"
     ]
    }
   ],
   "source": [
    "import pandas as pd\n",
    "data={\"phone name\":phn_nam,\"phone exchange\":phn_exc}\n",
    "df=pd.DataFrame(data)\n",
    "print(df)"
   ]
  },
  {
   "cell_type": "code",
   "execution_count": 16,
   "id": "a552271c",
   "metadata": {},
   "outputs": [
    {
     "name": "stdout",
     "output_type": "stream",
     "text": [
      "Upto ₹7,750 Off on Exchange\n",
      "Upto ₹7,750 Off on Exchange\n",
      "Upto ₹7,750 Off on Exchange\n",
      "Upto ₹8,750 Off on Exchange\n",
      "Upto ₹8,750 Off on Exchange\n",
      "Upto ₹9,250 Off on Exchange\n",
      "Upto ₹12,500 Off on Exchange\n",
      "Upto ₹11,250 Off on Exchange\n",
      "Upto ₹11,250 Off on Exchange\n",
      "Upto ₹11,250 Off on Exchange\n",
      "Upto ₹12,500 Off on Exchange\n",
      "Upto ₹9,000 Off on Exchange\n",
      "Upto ₹12,500 Off on Exchange\n",
      "Upto ₹12,500 Off on Exchange\n",
      "Upto ₹12,500 Off on Exchange\n",
      "Upto ₹7,750 Off on Exchange\n",
      "Upto ₹7,750 Off on Exchange\n",
      "Upto ₹7,750 Off on Exchange\n",
      "Upto ₹8,750 Off on Exchange\n",
      "Upto ₹8,750 Off on Exchange\n",
      "Upto ₹9,250 Off on Exchange\n",
      "Upto ₹9,250 Off on Exchange\n",
      "Upto ₹9,250 Off on Exchange\n",
      "Upto ₹12,500 Off on Exchange\n",
      "Upto ₹11,250 Off on Exchange\n",
      "Upto ₹9,500 Off on Exchange\n",
      "Upto ₹11,250 Off on Exchange\n",
      "Upto ₹11,250 Off on Exchange\n",
      "Upto ₹12,500 Off on Exchange\n",
      "Upto ₹12,500 Off on Exchange\n",
      "Upto ₹9,750 Off on Exchange\n",
      "Upto ₹7,750 Off on Exchange\n",
      "Upto ₹7,750 Off on Exchange\n",
      "Upto ₹7,750 Off on Exchange\n",
      "Upto ₹8,750 Off on Exchange\n",
      "Upto ₹8,750 Off on Exchange\n",
      "Upto ₹9,250 Off on Exchange\n",
      "Upto ₹9,250 Off on Exchange\n",
      "Upto ₹9,250 Off on Exchange\n",
      "Upto ₹12,500 Off on Exchange\n",
      "Upto ₹11,250 Off on Exchange\n",
      "Upto ₹9,500 Off on Exchange\n",
      "Upto ₹11,250 Off on Exchange\n",
      "Upto ₹11,250 Off on Exchange\n",
      "Upto ₹12,500 Off on Exchange\n",
      "Upto ₹12,500 Off on Exchange\n",
      "Upto ₹9,750 Off on Exchange\n"
     ]
    }
   ],
   "source": [
    "for i in phn_exc:\n",
    "    print(i)"
   ]
  },
  {
   "cell_type": "code",
   "execution_count": 22,
   "id": "c9b42f57",
   "metadata": {},
   "outputs": [
    {
     "name": "stdout",
     "output_type": "stream",
     "text": [
      "                                     phone name phone price\n",
      "0     Infinix HOT 12 Play (Racing Black, 64 GB)      ₹8,499\n",
      "1   Infinix HOT 12 Play (Daylight Green, 64 GB)      ₹8,499\n",
      "2     Infinix HOT 12 Play (Horizon Blue, 64 GB)      ₹8,499\n",
      "3              realme C31 (Light Silver, 32 GB)      ₹9,299\n",
      "4                realme C31 (Dark Green, 32 GB)      ₹9,299\n",
      "..                                          ...         ...\n",
      "67   REDMI Note 10T 5G (Graphite Black, 128 GB)     ₹13,999\n",
      "68       REDMI Note 10T 5G (Mint Green, 128 GB)     ₹13,999\n",
      "69          MOTOROLA G60 (Dynamic Gray, 128 GB)     ₹15,999\n",
      "70             REDMI 10 (Midnight Black, 64 GB)     ₹10,499\n",
      "71             realme 9 (Sunburst Gold, 128 GB)     ₹17,999\n",
      "\n",
      "[72 rows x 2 columns]\n"
     ]
    }
   ],
   "source": [
    "import pandas as pd\n",
    "data={\"phone name\":phn_nam,\"phone price\":phn_pri}\n",
    "df=pd.DataFrame(data)\n",
    "print(df)"
   ]
  },
  {
   "cell_type": "code",
   "execution_count": null,
   "id": "e6a6518d",
   "metadata": {},
   "outputs": [],
   "source": []
  }
 ],
 "metadata": {
  "kernelspec": {
   "display_name": "Python 3 (ipykernel)",
   "language": "python",
   "name": "python3"
  },
  "language_info": {
   "codemirror_mode": {
    "name": "ipython",
    "version": 3
   },
   "file_extension": ".py",
   "mimetype": "text/x-python",
   "name": "python",
   "nbconvert_exporter": "python",
   "pygments_lexer": "ipython3",
   "version": "3.9.12"
  },
  "widgets": {
   "application/vnd.jupyter.widget-state+json": {
    "state": {},
    "version_major": 2,
    "version_minor": 0
   }
  }
 },
 "nbformat": 4,
 "nbformat_minor": 5
}
